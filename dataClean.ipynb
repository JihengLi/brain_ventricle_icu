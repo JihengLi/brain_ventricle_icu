{
 "cells": [
  {
   "cell_type": "code",
   "execution_count": 1,
   "metadata": {},
   "outputs": [],
   "source": [
    "import subprocess, os, time, re, csv, sys\n",
    "\n",
    "import pandas as pd\n",
    "import nibabel as nib\n",
    "import numpy as np\n",
    "import matplotlib.pyplot as plt\n",
    "\n",
    "from pathlib import Path\n",
    "from typing import List, Tuple\n",
    "from collections import defaultdict\n",
    "\n",
    "root_dir = \"/fs5/p_masi/zuol1/data/cibs_brain2/analysis\"\n",
    "dest_root_dir = \"/nfs2/harmonization/BIDS/CIBS_BRAIN2\""
   ]
  },
  {
   "cell_type": "code",
   "execution_count": 22,
   "metadata": {},
   "outputs": [],
   "source": [
    "def dump(path_list, outfile):\n",
    "    with open(outfile, \"w\") as f:\n",
    "        for p in sorted(path_list):\n",
    "            f.write(str(p) + \"\\n\")\n",
    "    print(f\"Cached {len(path_list)} paths to '{outfile}'\")"
   ]
  },
  {
   "cell_type": "code",
   "execution_count": 51,
   "metadata": {},
   "outputs": [
    {
     "name": "stdout",
     "output_type": "stream",
     "text": [
      "Cached 692 paths to 'nifti_all.txt'\n"
     ]
    }
   ],
   "source": [
    "lines = []\n",
    "for dirpath, dirnames, filenames in os.walk(Path(root_dir)):\n",
    "    if dirnames:\n",
    "        continue\n",
    "    file_type = Path(dirpath).name\n",
    "    session = Path(dirpath).parent.name\n",
    "    if session not in {\"00\", \"12\"} or file_type != \"nii\":\n",
    "        continue\n",
    "    for fname in filenames:\n",
    "        if fname.endswith(\".nii\") or fname.endswith(\".nii.gz\"):\n",
    "            lines.append(str(Path(dirpath) / fname))\n",
    "dump(lines, \"nifti_all.txt\")"
   ]
  },
  {
   "cell_type": "code",
   "execution_count": 5,
   "metadata": {},
   "outputs": [
    {
     "name": "stdout",
     "output_type": "stream",
     "text": [
      "Loaded 692 paths from nifti_all.txt\n"
     ]
    }
   ],
   "source": [
    "if os.path.exists(\"dataset_cache/nifti_all.txt\"):\n",
    "    with open(\"dataset_cache/nifti_all.txt\", \"r\") as f:\n",
    "        lines = [line.strip() for line in f if line.strip()]\n",
    "    print(f\"Loaded {len(lines)} paths from nifti_all.txt\")"
   ]
  },
  {
   "cell_type": "code",
   "execution_count": 54,
   "metadata": {},
   "outputs": [
    {
     "name": "stdout",
     "output_type": "stream",
     "text": [
      "True\n"
     ]
    }
   ],
   "source": [
    "depths = [len(Path(p).parts) for p in lines]\n",
    "\n",
    "# Check whether the depths of all addresses are same\n",
    "print(len(set(depths)) == 1)"
   ]
  },
  {
   "cell_type": "code",
   "execution_count": 55,
   "metadata": {},
   "outputs": [
    {
     "name": "stdout",
     "output_type": "stream",
     "text": [
      "Cached 77 paths to 'subject_only_00.txt'\n",
      "Cached 34 paths to 'subject_00_and_12.txt'\n",
      "Cached 21 paths to 'subject_only_12.txt'\n",
      "Only baseline data (00 only): 77\n",
      "Valid data (00 + 12): 34\n",
      "Only 12-month data: 21\n"
     ]
    }
   ],
   "source": [
    "subject_sessions = defaultdict(set)\n",
    "\n",
    "for fp in lines:\n",
    "    p = Path(fp)\n",
    "    if len(p.parents) < 3:\n",
    "        continue\n",
    "    session = p.parents[1].name\n",
    "    file_type = p.parents[0].name\n",
    "    if session not in [\"00\", \"12\"] or file_type != \"nii\":\n",
    "        continue\n",
    "    subject_dir = p.parents[2]\n",
    "    subject_sessions[subject_dir].add(session)\n",
    "\n",
    "only_00 = [p for p, s in subject_sessions.items() if s == {\"00\"}]\n",
    "both_00_12 = [p for p, s in subject_sessions.items() if s == {\"00\", \"12\"}]\n",
    "only_12 = [p for p, s in subject_sessions.items() if s == {\"12\"}]\n",
    "\n",
    "dump(only_00, \"subject_only_00.txt\")\n",
    "dump(both_00_12, \"subject_00_and_12.txt\")\n",
    "dump(only_12, \"subject_only_12.txt\")\n",
    "\n",
    "print(f\"Only baseline data (00 only): {len(only_00)}\")\n",
    "print(f\"Valid data (00 + 12): {len(both_00_12)}\")\n",
    "print(f\"Only 12-month data: {len(only_12)}\")"
   ]
  },
  {
   "cell_type": "code",
   "execution_count": 57,
   "metadata": {},
   "outputs": [
    {
     "name": "stdout",
     "output_type": "stream",
     "text": [
      "Cached 284 paths to 'nifti_00_and_12.txt'\n"
     ]
    }
   ],
   "source": [
    "valid_images = []\n",
    "\n",
    "for fp in lines:\n",
    "    p = Path(fp)\n",
    "    if len(p.parents) < 3:\n",
    "        continue\n",
    "    subj_dir = p.parents[2]\n",
    "    if subj_dir in both_00_12:\n",
    "        valid_images.append(p)\n",
    "\n",
    "dump(valid_images, \"nifti_00_and_12.txt\")"
   ]
  },
  {
   "cell_type": "code",
   "execution_count": 65,
   "metadata": {},
   "outputs": [],
   "source": [
    "def extract_modality(fname: str) -> str:\n",
    "    stem = fname\n",
    "    for ext in (\".nii.gz\", \".nii\"):\n",
    "        if stem.endswith(ext):\n",
    "            stem = stem[: -len(ext)]\n",
    "            break\n",
    "    try:\n",
    "        seq_part = stem.split(\"_BRAIN_\")[1]\n",
    "    except IndexError:\n",
    "        return \"\"\n",
    "    tokens = seq_part.split(\"-\")\n",
    "    return \"-\".join(tokens[:2]) if len(tokens) >= 2 else \"\""
   ]
  },
  {
   "cell_type": "code",
   "execution_count": 66,
   "metadata": {},
   "outputs": [
    {
     "name": "stdout",
     "output_type": "stream",
     "text": [
      "Total subject-session pairs: 166\n",
      "Pairs containing T1-3D: 165\n",
      "Pairs missing T1-3D: 1\n",
      "Cached 1 paths to 'sessions_without_T1-3D.txt'\n"
     ]
    }
   ],
   "source": [
    "MODALITY_NEED = \"T1-3D\"\n",
    "session_modalities = defaultdict(set)\n",
    "for fp in lines:\n",
    "    p = Path(fp)\n",
    "    if len(p.parents) < 3:\n",
    "        continue\n",
    "    session_dir = p.parents[1]\n",
    "    key = session_dir\n",
    "    modality = extract_modality(p.name)\n",
    "    if modality:\n",
    "        session_modalities[key].add(modality)\n",
    "\n",
    "sessions_with = [\n",
    "    key for key, mods in session_modalities.items() if MODALITY_NEED in mods\n",
    "]\n",
    "sessions_without = [\n",
    "    key for key, mods in session_modalities.items() if MODALITY_NEED not in mods\n",
    "]\n",
    "\n",
    "print(f\"Total subject-session pairs: {len(session_modalities)}\")\n",
    "print(f\"Pairs containing {MODALITY_NEED}: {len(sessions_with)}\")\n",
    "print(f\"Pairs missing {MODALITY_NEED}: {len(sessions_without)}\")\n",
    "\n",
    "out_file = f\"sessions_without_{MODALITY_NEED}.txt\"\n",
    "dump(sessions_without, out_file)"
   ]
  },
  {
   "cell_type": "code",
   "execution_count": 82,
   "metadata": {},
   "outputs": [],
   "source": [
    "def parse_path(file_path: str) -> dict | None:\n",
    "    p = Path(file_path)\n",
    "    parts = p.parts\n",
    "    if len(parts) != 11:\n",
    "        raise RuntimeError(f\"File address not valid.\\nAddress: {file_path}\")\n",
    "    subject = parts[7]\n",
    "    session = parts[8]\n",
    "    scan_type = extract_modality(parts[10])\n",
    "    if scan_type not in {\"T1-3D\"}:\n",
    "        return None\n",
    "    return {\n",
    "        \"filepath\": p.resolve(),\n",
    "        \"scan_type\": scan_type,\n",
    "        \"subject_id\": f\"sub-{subject}\",\n",
    "        \"session_id\": f\"ses-{session}\",\n",
    "    }\n",
    "\n",
    "\n",
    "rows = [row for fp in valid_images if (row := parse_path(fp))]\n",
    "df = pd.DataFrame(rows)"
   ]
  },
  {
   "cell_type": "code",
   "execution_count": 83,
   "metadata": {},
   "outputs": [],
   "source": [
    "df[\"run\"] = (\n",
    "    df.groupby([\"scan_type\", \"subject_id\", \"session_id\"])\n",
    "    .cumcount()\n",
    "    .add(1)\n",
    "    .astype(\"string\")\n",
    ")\n",
    "\n",
    "mask = (\n",
    "    df.groupby([\"scan_type\", \"subject_id\", \"session_id\"])[\"run\"].transform(\"size\").eq(1)\n",
    ")\n",
    "df.loc[mask, \"run\"] = \"\""
   ]
  },
  {
   "cell_type": "code",
   "execution_count": 84,
   "metadata": {},
   "outputs": [],
   "source": [
    "def make_links(row):\n",
    "    prefix = f\"{row.subject_id}_{row.session_id}\"\n",
    "    if row.run:\n",
    "        prefix += f\"_run-{row.run}\"\n",
    "    if row.scan_type == \"T1-3D\":\n",
    "        fname = f\"{prefix}_T1w\"\n",
    "        subdir = \"anat\"\n",
    "    else:\n",
    "        raise ValueError(f\"Unknown scan type: {row.scan_type}\")\n",
    "    base = f\"{dest_root_dir}/{row.subject_id}/{row.session_id}/{subdir}/{fname}\"\n",
    "    row[\"nii_link\"] = base + \".nii.gz\"\n",
    "    return row\n",
    "\n",
    "\n",
    "df = df.apply(make_links, axis=1)"
   ]
  },
  {
   "cell_type": "code",
   "execution_count": 85,
   "metadata": {},
   "outputs": [],
   "source": [
    "df.sort_values([\"scan_type\", \"subject_id\", \"session_id\", \"run\"], inplace=True)"
   ]
  },
  {
   "cell_type": "code",
   "execution_count": 6,
   "metadata": {},
   "outputs": [
    {
     "name": "stdout",
     "output_type": "stream",
     "text": [
      "    Unnamed: 0                                           filepath scan_type  \\\n",
      "10          10  /fs5/p_masi/zuol1/data/cibs_brain2/raw/CIBS_BR...     T1-3D   \n",
      "11          11  /fs5/p_masi/zuol1/data/cibs_brain2/raw/CIBS_BR...     T1-3D   \n",
      "13          13  /fs5/p_masi/zuol1/data/cibs_brain2/raw/CIBS_BR...     T1-3D   \n",
      "14          14  /fs5/p_masi/zuol1/data/cibs_brain2/raw/CIBS_BR...     T1-3D   \n",
      "15          15  /fs5/p_masi/zuol1/data/cibs_brain2/raw/CIBS_BR...     T1-3D   \n",
      "16          16  /fs5/p_masi/zuol1/data/cibs_brain2/raw/CIBS_BR...     T1-3D   \n",
      "27          27  /fs5/p_masi/zuol1/data/cibs_brain2/raw/CIBS_BR...     T1-3D   \n",
      "28          28  /fs5/p_masi/zuol1/data/cibs_brain2/raw/CIBS_BR...     T1-3D   \n",
      "29          29  /fs5/p_masi/zuol1/data/cibs_brain2/raw/CIBS_BR...     T1-3D   \n",
      "30          30  /fs5/p_masi/zuol1/data/cibs_brain2/raw/CIBS_BR...     T1-3D   \n",
      "34          34  /fs5/p_masi/zuol1/data/cibs_brain2/raw/CIBS_BR...     T1-3D   \n",
      "35          35  /fs5/p_masi/zuol1/data/cibs_brain2/raw/CIBS_BR...     T1-3D   \n",
      "37          37  /fs5/p_masi/zuol1/data/cibs_brain2/raw/CIBS_BR...     T1-3D   \n",
      "38          38  /fs5/p_masi/zuol1/data/cibs_brain2/raw/CIBS_BR...     T1-3D   \n",
      "40          40  /fs5/p_masi/zuol1/data/cibs_brain2/raw/CIBS_BR...     T1-3D   \n",
      "41          41  /fs5/p_masi/zuol1/data/cibs_brain2/raw/CIBS_BR...     T1-3D   \n",
      "43          43  /fs5/p_masi/zuol1/data/cibs_brain2/raw/CIBS_BR...     T1-3D   \n",
      "44          44  /fs5/p_masi/zuol1/data/cibs_brain2/raw/CIBS_BR...     T1-3D   \n",
      "47          47  /fs5/p_masi/zuol1/data/cibs_brain2/raw/CIBS_BR...     T1-3D   \n",
      "48          48  /fs5/p_masi/zuol1/data/cibs_brain2/raw/CIBS_BR...     T1-3D   \n",
      "49          49  /fs5/p_masi/zuol1/data/cibs_brain2/raw/CIBS_BR...     T1-3D   \n",
      "50          50  /fs5/p_masi/zuol1/data/cibs_brain2/raw/CIBS_BR...     T1-3D   \n",
      "51          51  /fs5/p_masi/zuol1/data/cibs_brain2/raw/CIBS_BR...     T1-3D   \n",
      "52          52  /fs5/p_masi/zuol1/data/cibs_brain2/raw/CIBS_BR...     T1-3D   \n",
      "53          53  /fs5/p_masi/zuol1/data/cibs_brain2/raw/CIBS_BR...     T1-3D   \n",
      "55          55  /fs5/p_masi/zuol1/data/cibs_brain2/raw/CIBS_BR...     T1-3D   \n",
      "56          56  /fs5/p_masi/zuol1/data/cibs_brain2/raw/CIBS_BR...     T1-3D   \n",
      "57          57  /fs5/p_masi/zuol1/data/cibs_brain2/raw/CIBS_BR...     T1-3D   \n",
      "58          58  /fs5/p_masi/zuol1/data/cibs_brain2/raw/CIBS_BR...     T1-3D   \n",
      "64          64  /fs5/p_masi/zuol1/data/cibs_brain2/raw/CIBS_BR...     T1-3D   \n",
      "65          65  /fs5/p_masi/zuol1/data/cibs_brain2/raw/CIBS_BR...     T1-3D   \n",
      "66          66  /fs5/p_masi/zuol1/data/cibs_brain2/raw/CIBS_BR...     T1-3D   \n",
      "71          71  /fs5/p_masi/zuol1/data/cibs_brain2/raw/CIBS_BR...     T1-3D   \n",
      "72          72  /fs5/p_masi/zuol1/data/cibs_brain2/raw/CIBS_BR...     T1-3D   \n",
      "74          74  /fs5/p_masi/zuol1/data/cibs_brain2/raw/CIBS_BR...     T1-3D   \n",
      "75          75  /fs5/p_masi/zuol1/data/cibs_brain2/raw/CIBS_BR...     T1-3D   \n",
      "76          76  /fs5/p_masi/zuol1/data/cibs_brain2/raw/CIBS_BR...     T1-3D   \n",
      "77          77  /fs5/p_masi/zuol1/data/cibs_brain2/raw/CIBS_BR...     T1-3D   \n",
      "79          79  /fs5/p_masi/zuol1/data/cibs_brain2/raw/CIBS_BR...     T1-3D   \n",
      "80          80  /fs5/p_masi/zuol1/data/cibs_brain2/raw/CIBS_BR...     T1-3D   \n",
      "81          81  /fs5/p_masi/zuol1/data/cibs_brain2/raw/CIBS_BR...     T1-3D   \n",
      "82          82  /fs5/p_masi/zuol1/data/cibs_brain2/raw/CIBS_BR...     T1-3D   \n",
      "83          83  /fs5/p_masi/zuol1/data/cibs_brain2/raw/CIBS_BR...     T1-3D   \n",
      "88          88  /fs5/p_masi/zuol1/data/cibs_brain2/raw/CIBS_BR...     T1-3D   \n",
      "89          89  /fs5/p_masi/zuol1/data/cibs_brain2/raw/CIBS_BR...     T1-3D   \n",
      "90          90  /fs5/p_masi/zuol1/data/cibs_brain2/raw/CIBS_BR...     T1-3D   \n",
      "91          91  /fs5/p_masi/zuol1/data/cibs_brain2/raw/CIBS_BR...     T1-3D   \n",
      "92          92  /fs5/p_masi/zuol1/data/cibs_brain2/raw/CIBS_BR...     T1-3D   \n",
      "\n",
      "    subject_id session_id  run  \\\n",
      "10  sub-BRA047     ses-00  1.0   \n",
      "11  sub-BRA047     ses-00  2.0   \n",
      "13  sub-BRA048     ses-00  1.0   \n",
      "14  sub-BRA048     ses-00  2.0   \n",
      "15  sub-BRA048     ses-12  1.0   \n",
      "16  sub-BRA048     ses-12  2.0   \n",
      "27  sub-VUM005     ses-00  1.0   \n",
      "28  sub-VUM005     ses-00  2.0   \n",
      "29  sub-VUM005     ses-12  1.0   \n",
      "30  sub-VUM005     ses-12  2.0   \n",
      "34  sub-VUM013     ses-12  1.0   \n",
      "35  sub-VUM013     ses-12  2.0   \n",
      "37  sub-VUM020     ses-12  1.0   \n",
      "38  sub-VUM020     ses-12  2.0   \n",
      "40  sub-VUM022     ses-12  1.0   \n",
      "41  sub-VUM022     ses-12  2.0   \n",
      "43  sub-VUM028     ses-12  1.0   \n",
      "44  sub-VUM028     ses-12  2.0   \n",
      "47  sub-VUM104     ses-00  1.0   \n",
      "48  sub-VUM104     ses-00  2.0   \n",
      "49  sub-VUM104     ses-12  1.0   \n",
      "50  sub-VUM104     ses-12  2.0   \n",
      "51  sub-VUM104     ses-12  3.0   \n",
      "52  sub-VUM117     ses-00  1.0   \n",
      "53  sub-VUM117     ses-00  2.0   \n",
      "55  sub-VUM120     ses-00  1.0   \n",
      "56  sub-VUM120     ses-00  2.0   \n",
      "57  sub-VUM120     ses-12  1.0   \n",
      "58  sub-VUM120     ses-12  2.0   \n",
      "64  sub-VUM140     ses-12  1.0   \n",
      "65  sub-VUM140     ses-12  2.0   \n",
      "66  sub-VUM140     ses-12  3.0   \n",
      "71  sub-VUM164     ses-00  1.0   \n",
      "72  sub-VUM164     ses-00  2.0   \n",
      "74  sub-VUM168     ses-00  1.0   \n",
      "75  sub-VUM168     ses-00  2.0   \n",
      "76  sub-VUM168     ses-12  1.0   \n",
      "77  sub-VUM168     ses-12  2.0   \n",
      "79  sub-VUM179     ses-12  1.0   \n",
      "80  sub-VUM179     ses-12  2.0   \n",
      "81  sub-VUM179     ses-12  3.0   \n",
      "82  sub-VUM201     ses-00  1.0   \n",
      "83  sub-VUM201     ses-00  2.0   \n",
      "88  sub-VUM229     ses-12  1.0   \n",
      "89  sub-VUM229     ses-12  2.0   \n",
      "90  sub-VUM234     ses-00  1.0   \n",
      "91  sub-VUM234     ses-00  2.0   \n",
      "92  sub-VUM234     ses-00  3.0   \n",
      "\n",
      "                                             nii_link  \n",
      "10  /nfs2/harmonization/BIDS/CIBS_BRAIN2/sub-BRA04...  \n",
      "11  /nfs2/harmonization/BIDS/CIBS_BRAIN2/sub-BRA04...  \n",
      "13  /nfs2/harmonization/BIDS/CIBS_BRAIN2/sub-BRA04...  \n",
      "14  /nfs2/harmonization/BIDS/CIBS_BRAIN2/sub-BRA04...  \n",
      "15  /nfs2/harmonization/BIDS/CIBS_BRAIN2/sub-BRA04...  \n",
      "16  /nfs2/harmonization/BIDS/CIBS_BRAIN2/sub-BRA04...  \n",
      "27  /nfs2/harmonization/BIDS/CIBS_BRAIN2/sub-VUM00...  \n",
      "28  /nfs2/harmonization/BIDS/CIBS_BRAIN2/sub-VUM00...  \n",
      "29  /nfs2/harmonization/BIDS/CIBS_BRAIN2/sub-VUM00...  \n",
      "30  /nfs2/harmonization/BIDS/CIBS_BRAIN2/sub-VUM00...  \n",
      "34  /nfs2/harmonization/BIDS/CIBS_BRAIN2/sub-VUM01...  \n",
      "35  /nfs2/harmonization/BIDS/CIBS_BRAIN2/sub-VUM01...  \n",
      "37  /nfs2/harmonization/BIDS/CIBS_BRAIN2/sub-VUM02...  \n",
      "38  /nfs2/harmonization/BIDS/CIBS_BRAIN2/sub-VUM02...  \n",
      "40  /nfs2/harmonization/BIDS/CIBS_BRAIN2/sub-VUM02...  \n",
      "41  /nfs2/harmonization/BIDS/CIBS_BRAIN2/sub-VUM02...  \n",
      "43  /nfs2/harmonization/BIDS/CIBS_BRAIN2/sub-VUM02...  \n",
      "44  /nfs2/harmonization/BIDS/CIBS_BRAIN2/sub-VUM02...  \n",
      "47  /nfs2/harmonization/BIDS/CIBS_BRAIN2/sub-VUM10...  \n",
      "48  /nfs2/harmonization/BIDS/CIBS_BRAIN2/sub-VUM10...  \n",
      "49  /nfs2/harmonization/BIDS/CIBS_BRAIN2/sub-VUM10...  \n",
      "50  /nfs2/harmonization/BIDS/CIBS_BRAIN2/sub-VUM10...  \n",
      "51  /nfs2/harmonization/BIDS/CIBS_BRAIN2/sub-VUM10...  \n",
      "52  /nfs2/harmonization/BIDS/CIBS_BRAIN2/sub-VUM11...  \n",
      "53  /nfs2/harmonization/BIDS/CIBS_BRAIN2/sub-VUM11...  \n",
      "55  /nfs2/harmonization/BIDS/CIBS_BRAIN2/sub-VUM12...  \n",
      "56  /nfs2/harmonization/BIDS/CIBS_BRAIN2/sub-VUM12...  \n",
      "57  /nfs2/harmonization/BIDS/CIBS_BRAIN2/sub-VUM12...  \n",
      "58  /nfs2/harmonization/BIDS/CIBS_BRAIN2/sub-VUM12...  \n",
      "64  /nfs2/harmonization/BIDS/CIBS_BRAIN2/sub-VUM14...  \n",
      "65  /nfs2/harmonization/BIDS/CIBS_BRAIN2/sub-VUM14...  \n",
      "66  /nfs2/harmonization/BIDS/CIBS_BRAIN2/sub-VUM14...  \n",
      "71  /nfs2/harmonization/BIDS/CIBS_BRAIN2/sub-VUM16...  \n",
      "72  /nfs2/harmonization/BIDS/CIBS_BRAIN2/sub-VUM16...  \n",
      "74  /nfs2/harmonization/BIDS/CIBS_BRAIN2/sub-VUM16...  \n",
      "75  /nfs2/harmonization/BIDS/CIBS_BRAIN2/sub-VUM16...  \n",
      "76  /nfs2/harmonization/BIDS/CIBS_BRAIN2/sub-VUM16...  \n",
      "77  /nfs2/harmonization/BIDS/CIBS_BRAIN2/sub-VUM16...  \n",
      "79  /nfs2/harmonization/BIDS/CIBS_BRAIN2/sub-VUM17...  \n",
      "80  /nfs2/harmonization/BIDS/CIBS_BRAIN2/sub-VUM17...  \n",
      "81  /nfs2/harmonization/BIDS/CIBS_BRAIN2/sub-VUM17...  \n",
      "82  /nfs2/harmonization/BIDS/CIBS_BRAIN2/sub-VUM20...  \n",
      "83  /nfs2/harmonization/BIDS/CIBS_BRAIN2/sub-VUM20...  \n",
      "88  /nfs2/harmonization/BIDS/CIBS_BRAIN2/sub-VUM22...  \n",
      "89  /nfs2/harmonization/BIDS/CIBS_BRAIN2/sub-VUM22...  \n",
      "90  /nfs2/harmonization/BIDS/CIBS_BRAIN2/sub-VUM23...  \n",
      "91  /nfs2/harmonization/BIDS/CIBS_BRAIN2/sub-VUM23...  \n",
      "92  /nfs2/harmonization/BIDS/CIBS_BRAIN2/sub-VUM23...  \n"
     ]
    }
   ],
   "source": [
    "mask = (\n",
    "    (df[\"scan_type\"] == \"T1-3D\")\n",
    "    & df[\"run\"].notna()\n",
    "    & (df[\"run\"] != \"\")\n",
    "    # & (df[\"run\"] == \"\")\n",
    ")\n",
    "\n",
    "if mask.any():\n",
    "    print(df.loc[mask])\n",
    "else:\n",
    "    print(\"Nothing here.\")"
   ]
  },
  {
   "cell_type": "code",
   "execution_count": 87,
   "metadata": {},
   "outputs": [],
   "source": [
    "df.to_csv(\"data.tsv\", sep=\"\\t\")"
   ]
  },
  {
   "cell_type": "code",
   "execution_count": 4,
   "metadata": {},
   "outputs": [],
   "source": [
    "def load_dataframe(path: str) -> pd.DataFrame:\n",
    "    if path.endswith(\".pkl\"):\n",
    "        return pd.read_pickle(path)\n",
    "    return pd.read_csv(path, sep=None, engine=\"python\")\n",
    "\n",
    "\n",
    "def _collect_link_pairs(df: pd.DataFrame) -> List[Tuple[str, str]]:\n",
    "    colmap = {\n",
    "        \"filepath\": \"nii_link\",\n",
    "    }\n",
    "\n",
    "    present_pairs = [\n",
    "        (src, dst)\n",
    "        for src, dst in colmap.items()\n",
    "        if src in df.columns and dst in df.columns\n",
    "    ]\n",
    "    if not present_pairs:\n",
    "        raise ValueError(\"No recognised source/target column pairs found.\")\n",
    "\n",
    "    commands = []\n",
    "    for _, row in df.iterrows():\n",
    "        for src, dst in present_pairs:\n",
    "            s, d = row[src], row[dst]\n",
    "            if pd.notna(s) and pd.notna(d) and str(s).strip() and str(d).strip():\n",
    "                commands.append(f'mkdir -p \"{Path(d).parent}\"')\n",
    "                commands.append(f'ln -s \"{s}\" \"{d}\"')\n",
    "    return commands\n",
    "\n",
    "\n",
    "def write_link_commands(\n",
    "    df: pd.DataFrame,\n",
    "    output_txt: str | Path,\n",
    "    *,\n",
    "    overwrite: bool = True,\n",
    ") -> None:\n",
    "    output_txt = Path(output_txt)\n",
    "    mode = \"w\" if overwrite else \"a\"\n",
    "\n",
    "    commands = _collect_link_pairs(df)\n",
    "\n",
    "    with output_txt.open(mode, encoding=\"utf-8\") as f:\n",
    "        for cmd in commands:\n",
    "            f.write(cmd + \"\\n\")\n",
    "\n",
    "    print(f\"{len(commands)} link commands written to {output_txt.resolve()}\")"
   ]
  },
  {
   "cell_type": "code",
   "execution_count": 5,
   "metadata": {},
   "outputs": [],
   "source": [
    "df = load_dataframe(\"dataset_cache/data.tsv\")"
   ]
  },
  {
   "cell_type": "code",
   "execution_count": 91,
   "metadata": {},
   "outputs": [
    {
     "name": "stdout",
     "output_type": "stream",
     "text": [
      "188 link commands written to /nfs/ForHenry/brain_ventricle/data_link_command.txt\n"
     ]
    }
   ],
   "source": [
    "write_link_commands(df, \"data_link_command.txt\")"
   ]
  },
  {
   "cell_type": "code",
   "execution_count": null,
   "metadata": {},
   "outputs": [],
   "source": [
    "mask = (\n",
    "    (df[\"scan_type\"] == \"T1-3D\")\n",
    "    & df[\"run\"].notna()\n",
    "    & (df[\"run\"] != \"\")\n",
    "    # & (df[\"run\"] == \"\")\n",
    ")\n",
    "\n",
    "if mask.any():\n",
    "    print(df.loc[mask])\n",
    "else:\n",
    "    print(\"Nothing here.\")"
   ]
  }
 ],
 "metadata": {
  "kernelspec": {
   "display_name": "Python 3",
   "language": "python",
   "name": "python3"
  },
  "language_info": {
   "codemirror_mode": {
    "name": "ipython",
    "version": 3
   },
   "file_extension": ".py",
   "mimetype": "text/x-python",
   "name": "python",
   "nbconvert_exporter": "python",
   "pygments_lexer": "ipython3",
   "version": "3.10.12"
  }
 },
 "nbformat": 4,
 "nbformat_minor": 2
}
